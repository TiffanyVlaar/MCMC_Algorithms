{
 "cells": [
  {
   "cell_type": "markdown",
   "metadata": {},
   "source": [
    "## MALA\n",
    "\n",
    "In this notebook I will implement the Metropolis Adjusted Langevin Algorithm (MALA) and the Random Walk Metropolis (RWM) algorithm for comparison."
   ]
  },
  {
   "cell_type": "code",
   "execution_count": 4,
   "metadata": {},
   "outputs": [],
   "source": [
    "import numpy as np\n",
    "import matplotlib.pyplot as plt"
   ]
  },
  {
   "cell_type": "markdown",
   "metadata": {},
   "source": [
    "***\n",
    "### RWM \n",
    "\n",
    "The RWM algorithm works as follows: initialize and for j = 1,2,.. propose \n",
    "\\begin{align}\n",
    "u' = u_j + h \\xi_j,\n",
    "\\end{align}\n",
    "with $\\xi_j \\sim \\mathcal{N}(0,1)$ and step size $h$. \n",
    "\n",
    "Accept this move with acceptance probability\n",
    "\\begin{align}\n",
    "\\alpha (u'|u_j) &= \\text{min}\\left (1,\\frac{\\pi(u')}{\\pi(u_j)} \\right ),\n",
    "\\end{align}\n",
    "because $q(u_j|u')=q(u'|u_j)$ for this algorithm.\n",
    "If the move is accepted then $u_{j+1} = u'$, otherwise $u_{j+1} = u_j$.\n",
    "\n",
    "I have implemented the algorithm below for $\\pi(\\mathbf{x})=\\prod_{i=1}^{d} (2\\pi)^{-1/2} \\text{exp}\\left (-(x^{(i)})^2/2 \\right ), \\ \\mathbf{x}=(x^{(1)},\\cdots,x^{(d)}) \\in \\mathbb{R}^{d}$\n",
    "with an adaptive step size, such that the optimal acceptance probability of 0.234 can be obtained. "
   ]
  },
  {
   "cell_type": "code",
   "execution_count": 15,
   "metadata": {},
   "outputs": [],
   "source": [
    "def RWM_adaptivevariance(Xzero,Dt,d,N):\n",
    "    \"\"\"\n",
    "    The RWM algorithm with adaptive step size. It takes as input:\n",
    "    initial condition Xzero, initial step size Dt, Markov Chain dimension d, and number of samples M.\n",
    "    It outputs the average acceptance probability alpha and the average proposal step size.\n",
    "    \"\"\"\n",
    "    \n",
    "    X = np.zeros((N,d))  \n",
    "    X[0,:] = Xzero       \n",
    "    alpham = []          # Will store the acceptance probabilities in here\n",
    "    Dtprop = np.zeros(N) # Will store the step sizes in here\n",
    "    Dtprop[0] = Dt       \n",
    "\n",
    "    for j in range(N-1):\n",
    "        Xprop = X[j,:]+Dt*np.random.randn(d) \n",
    "        \n",
    "        # Compute acceptance probability\n",
    "        alpha = np.min([1,np.exp(0.5*(np.sum(X[j,:]**2)-np.sum(Xprop**2)))])\n",
    "        \n",
    "        # Decide whether or not to accept\n",
    "        r = np.random.rand(1) \n",
    "        if r < alpha:         \n",
    "            X[j+1,:] = Xprop      # Accepted the proposal!\n",
    "        else:                 \n",
    "            X[j+1,:] = X[j,:]     # Did not accept. X_(j+1) = X_j\n",
    "        \n",
    "        alpham += [[alpha]] # Store acceptance probability for this iteration\n",
    "        \n",
    "        Dt += (Dt/(j+1))*(alpha-0.234)   # Update the proposal variance using the current acceptance probability and the desired one\n",
    "        Dtprop[j+1] = Dt                 # Store proposal variance for this iteration\n",
    "        \n",
    "    return np.mean(alpham),np.mean(Dtprop) "
   ]
  },
  {
   "cell_type": "markdown",
   "metadata": {},
   "source": [
    "***\n",
    "### MALA\n",
    "Consider the first-order SDE\n",
    "\\begin{align}\n",
    "\\text{d}X = \\nabla \\text{log} \\pi(X) \\text{d}t + \\sqrt{2}\\text{d}W\n",
    "\\end{align}\n",
    "Using Euler-Maruyama this gives\n",
    "\\begin{align}\n",
    "X_{n+1} = X_n + \\Delta t \\nabla \\text{log} \\ \\pi(X_n) + \\sqrt{2\\Delta t}\\xi_n, \\ \\xi_n \\sim \\mathcal{N}(0,I_d).\n",
    "\\end{align}\n",
    "This results in the proposal for MALA:\n",
    "\\begin{align*}\n",
    "u' &= u_j + \\Delta t \\nabla \\text{log} \\ \\pi(u_j) + \\sqrt{2\\Delta t}\\xi_j,\n",
    "\\end{align*}\n",
    "where $\\xi_j \\sim \\mathcal{N}(0,I)$. MALA uses a Metropolis-Hasting acceptance step (in contrast with ULA) to ensure that the correct stationary distribution is obtained. \n",
    "\n",
    "The proposal $u'$ is accepted with acceptance probability\n",
    "\\begin{align}\n",
    "\\alpha (u'|u_j) &= \\text{min}\\left (1,\\frac{\\pi(u')q(u_j|u')}{\\pi(u_j)q(u'|u_j)} \\right ).\n",
    "\\end{align}\n",
    "If the move is accepted then $u_{j+1} = u'$, otherwise $u_{j+1} = u_j$. <br>\n",
    "I have implemented the algorithm with an adaptive step size, such that the optimal acceptance probability of 0.576 can be obtained."
   ]
  },
  {
   "cell_type": "code",
   "execution_count": 16,
   "metadata": {},
   "outputs": [],
   "source": [
    "import numpy as np\n",
    "\n",
    "def MALA_adaptivevariance(Xzero,Dt,d,N):\n",
    "    \"\"\"\n",
    "    The MALA algorithm with adaptive stepsize. It takes as input:\n",
    "    initial condition Xzero, initial step size Dt, Markov Chain dimension d, and number of samples N.\n",
    "    It outputs the average acceptance probability alpha and the average proposal step size.\n",
    "    \"\"\"\n",
    "\n",
    "    X = np.zeros((N,d))  \n",
    "    X[0,:] = Xzero       \n",
    "    alpham = []          # Will store the acceptance probabilities in here\n",
    "    Dtprop = np.zeros(N) # Will store the proposal variances in here\n",
    "    Dtprop[0] = Dt       \n",
    "    \n",
    "    for j in range(N-1): \n",
    "        Xprop = X[j,:]-0.5*Dt*X[j,:]+np.sqrt(Dt)*np.random.randn(d)\n",
    "        qX = np.exp(-(1/(4*0.5*Dt))*np.dot((X[j,:]+(0.5*Dt-1)*Xprop).T,(X[j,:]+(0.5*Dt-1)*Xprop)))\n",
    "        qprop = np.exp(-(1/(4*0.5*Dt))*np.dot((Xprop+(0.5*Dt-1)*X[j,:]).T,(Xprop+(0.5*Dt-1)*X[j,:])))\n",
    "        alpha = np.min([1,np.exp(0.5*(np.sum(X[j,:]**2)-np.sum(Xprop**2)))*(qX/qprop)])\n",
    "        \n",
    "        # Decide whether or not to accept\n",
    "        r = np.random.rand(1)  \n",
    "        if r < alpha:          \n",
    "            X[j+1,:] = Xprop       # Accepted the proposal! \n",
    "        else:                  \n",
    "            X[j+1,:] = X[j,:]      # Did not accept. X_(j+1) = X_j\n",
    "        \n",
    "        alpham += [[alpha]] # Store acceptance probability for this iteration\n",
    "        \n",
    "        Dt += (Dt/(j+1))*(alpha-0.576)   # Update the proposal variance using the current acceptance probability and the desired one\n",
    "        Dtprop[j+1] = Dt                  # Store proposal variance for this iteration\n",
    "           \n",
    "    return np.mean(alpham),np.mean(Dtprop)"
   ]
  },
  {
   "cell_type": "code",
   "execution_count": 20,
   "metadata": {},
   "outputs": [],
   "source": [
    "# In this cell I will compute, for different choices of the dimension, the\n",
    "# 1) average acceptance probability, 2) average proposal variance / step size\n",
    "# for both the RWM algorithm as the MALA algorithm. \n",
    "\n",
    "# Hyperparameter settings\n",
    "dimension = np.linspace(10,300,30) \n",
    "Dt = 0.1                # Initial proposal variance\n",
    "N = 100000               # Number of samples\n",
    "\n",
    "alpha_RWM = []          \n",
    "alpha_MALA = []         \n",
    "Dt_RWM = []             \n",
    "Dt_MALA = []            \n",
    "\n",
    "for i,dim in enumerate(dimension):   \n",
    "    alpha,propvar = RWM_adaptivevariance(np.zeros(int(dim)),Dt,int(dim),N) # Run the RWM algorithm with adaptive step-size\n",
    "    alpha_RWM += [[alpha]]    # Store the average acceptance probability for RWM\n",
    "    Dt_RWM += [[propvar]]     # Store the evolution of the proposal variance for RWM\n",
    "    \n",
    "    alpha,propvar = MALA_adaptivevariance(np.zeros(int(dim)),Dt,int(dim),N) # Run the MALA algorithm with adaptive step-size\n",
    "    alpha_MALA += [[alpha]] \n",
    "    Dt_MALA += [[propvar]]  "
   ]
  },
  {
   "cell_type": "code",
   "execution_count": 33,
   "metadata": {},
   "outputs": [
    {
     "data": {
      "text/plain": [
       "<matplotlib.legend.Legend at 0x119c31048>"
      ]
     },
     "execution_count": 33,
     "metadata": {},
     "output_type": "execute_result"
    },
    {
     "data": {
      "image/png": "[encoded data removed]",
      "text/plain": [
       "<Figure size 432x288 with 1 Axes>"
      ]
     },
     "metadata": {},
     "output_type": "display_data"
    }
   ],
   "source": [
    "# In this cell I will plot the average acceptance probability (wrt dimension) for both the RWM and MALA algorithms\n",
    "# The desired acceptance probability is indicated by a black line at 0.234 for RWM and at 0.576 for MALA\n",
    "plt.rcParams.update({'font.size': 18}) \n",
    "plt.scatter(dimension,alpha_RWM,label=\"RWM\")\n",
    "plt.scatter(dimension,alpha_MALA,label=\"MALA\")\n",
    "plt.plot([0, 300], [0.234, 0.234],color='k')   \n",
    "plt.plot([0, 300], [0.576, 0.576],color='k')  \n",
    "plt.xlabel(\"Dimension\")\n",
    "plt.ylabel(\"$\\\\alpha$\")\n",
    "plt.ylim([0.1,0.7])\n",
    "plt.xlim([0,300])\n",
    "plt.title(\"Average acceptance probability\")\n",
    "plt.legend()"
   ]
  },
  {
   "cell_type": "code",
   "execution_count": 31,
   "metadata": {},
   "outputs": [
    {
     "data": {
      "text/plain": [
       "<matplotlib.legend.Legend at 0x119b43f60>"
      ]
     },
     "execution_count": 31,
     "metadata": {},
     "output_type": "execute_result"
    },
    {
     "data": {
      "image/png": "[encoded data removed]",
      "text/plain": [
       "<Figure size 432x288 with 1 Axes>"
      ]
     },
     "metadata": {},
     "output_type": "display_data"
    }
   ],
   "source": [
    "# In this cell I will plot the average of the proposal variance samples (wrt dimension) for both the RWM and MALA algorithms\n",
    "plt.rcParams.update({'font.size': 18}) \n",
    "plt.scatter(dimension,Dt_RWM,label=\"RWM\")    \n",
    "plt.scatter(dimension,Dt_MALA,label=\"MALA\")  \n",
    "plt.xlabel(\"Dimension\")\n",
    "plt.ylabel(\"Average time step\")\n",
    "plt.title(\"Proposal step size wrt dimension\")\n",
    "plt.xlim([0,300])\n",
    "plt.legend()"
   ]
  },
  {
   "cell_type": "markdown",
   "metadata": {},
   "source": [
    "Clearly, the RWM algorithm has a much lower optimal step size than MALA. Together with MALA's higher acceptance rate, this means that MALA asymptotically mixes much faster than RWM. The MALA algorithm is thus superior."
   ]
  }
 ],
 "metadata": {
  "kernelspec": {
   "display_name": "Python 3",
   "language": "python",
   "name": "python3"
  },
  "language_info": {
   "codemirror_mode": {
    "name": "ipython",
    "version": 3
   },
   "file_extension": ".py",
   "mimetype": "text/x-python",
   "name": "python",
   "nbconvert_exporter": "python",
   "pygments_lexer": "ipython3",
   "version": "3.6.4"
  }
 },
 "nbformat": 4,
 "nbformat_minor": 2
}
