{
 "cells": [
  {
   "cell_type": "code",
   "execution_count": 1,
   "metadata": {},
   "outputs": [],
   "source": [
    "def MALA_adaptivevariance(Xzero,Dt,d,N):\n",
    "    \"\"\"\n",
    "    The MALA algorithm with adaptive stepsize to achieve optimal acceptance probability 0.576. \n",
    "    The algorithm is implemented for a probability distribution of an isotropic Gaussian random vector.\n",
    "    It takes as input: initial condition Xzero, initial step size Dt, Markov Chain dimension d, and number of samples N.\n",
    "    It outputs the average acceptance probability alpha and the average proposal step size.\n",
    "    \"\"\"\n",
    "\n",
    "    X = np.zeros((N,d))  \n",
    "    X[0,:] = Xzero       \n",
    "    alpham = []          # Will store the acceptance probabilities in here\n",
    "    Dtprop = np.zeros(N) # Will store the proposal variances in here\n",
    "    Dtprop[0] = Dt       \n",
    "    \n",
    "    for j in range(N-1): \n",
    "        Xprop = X[j,:]-0.5*Dt*X[j,:]+np.sqrt(Dt)*np.random.randn(d)\n",
    "        qX = np.exp(-(1/(4*0.5*Dt))*np.dot((X[j,:]+(0.5*Dt-1)*Xprop).T,(X[j,:]+(0.5*Dt-1)*Xprop)))\n",
    "        qprop = np.exp(-(1/(4*0.5*Dt))*np.dot((Xprop+(0.5*Dt-1)*X[j,:]).T,(Xprop+(0.5*Dt-1)*X[j,:])))\n",
    "        alpha = np.min([1,np.exp(0.5*(np.sum(X[j,:]**2)-np.sum(Xprop**2)))*(qX/qprop)])\n",
    "        \n",
    "        # Decide whether or not to accept\n",
    "        r = np.random.rand(1)  \n",
    "        if r < alpha:          \n",
    "            X[j+1,:] = Xprop       # Accepted the proposal! \n",
    "        else:                  \n",
    "            X[j+1,:] = X[j,:]      # Did not accept. X_(j+1) = X_j\n",
    "        \n",
    "        alpham += [[alpha]] # Store acceptance probability for this iteration\n",
    "        \n",
    "        Dt += (Dt/(j+1))*(alpha-0.576)   # Update the proposal variance using the current acceptance probability and the desired one\n",
    "        Dtprop[j+1] = Dt                  # Store proposal variance for this iteration\n",
    "           \n",
    "    return np.mean(alpham),np.mean(Dtprop)"
   ]
  }
 ],
 "metadata": {
  "kernelspec": {
   "display_name": "Python 3",
   "language": "python",
   "name": "python3"
  },
  "language_info": {
   "codemirror_mode": {
    "name": "ipython",
    "version": 3
   },
   "file_extension": ".py",
   "mimetype": "text/x-python",
   "name": "python",
   "nbconvert_exporter": "python",
   "pygments_lexer": "ipython3",
   "version": "3.6.4"
  }
 },
 "nbformat": 4,
 "nbformat_minor": 2
}
